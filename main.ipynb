{
 "cells": [
  {
   "cell_type": "code",
   "execution_count": 1,
   "id": "7320d9d4",
   "metadata": {},
   "outputs": [],
   "source": [
    "import json\n"
   ]
  },
  {
   "cell_type": "code",
   "execution_count": 2,
   "id": "fd997428",
   "metadata": {},
   "outputs": [],
   "source": [
    "def read_from_file(filename):\n",
    "    with open(filename) as file:\n",
    "        data = json.load(file)\n",
    "    return data"
   ]
  },
  {
   "cell_type": "code",
   "execution_count": null,
   "id": "29f10196",
   "metadata": {},
   "outputs": [],
   "source": [
    "if __name__ == '__main__':\n",
    "    i = 0\n",
    "    while(i < 1):\n",
    "        diretorio = \"C:/Users/jhone.fontenele.BRSP-TURCK-INFO/Desktop/Software Development/python/API_json/api.json\"\n",
    "        a = str(diretorio)\n",
    "        read_data = read_from_file(a)\n",
    "        print(f\"CCM-01 medição de Temperatura :{read_data['ccm_01']['temperature']}°C -- CCM-02 medição de Temperatura :{read_data['ccm_02']['temperature']}°C\")\n",
    "        time.sleep(2)"
   ]
  },
  {
   "cell_type": "code",
   "execution_count": null,
   "id": "a4af95fc",
   "metadata": {},
   "outputs": [],
   "source": []
  },
  {
   "cell_type": "code",
   "execution_count": null,
   "id": "f72cdf53",
   "metadata": {},
   "outputs": [],
   "source": []
  }
 ],
 "metadata": {
  "kernelspec": {
   "display_name": "Python 3 (ipykernel)",
   "language": "python",
   "name": "python3"
  },
  "language_info": {
   "codemirror_mode": {
    "name": "ipython",
    "version": 3
   },
   "file_extension": ".py",
   "mimetype": "text/x-python",
   "name": "python",
   "nbconvert_exporter": "python",
   "pygments_lexer": "ipython3",
   "version": "3.10.0"
  }
 },
 "nbformat": 4,
 "nbformat_minor": 5
}
